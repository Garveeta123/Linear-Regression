{
  "nbformat": 4,
  "nbformat_minor": 0,
  "metadata": {
    "colab": {
      "name": "linearRegression.ipynb",
      "provenance": [],
      "authorship_tag": "ABX9TyPqGJmL+fFz0TdDw7bQpRKY",
      "include_colab_link": true
    },
    "kernelspec": {
      "name": "python3",
      "display_name": "Python 3"
    }
  },
  "cells": [
    {
      "cell_type": "markdown",
      "metadata": {
        "id": "view-in-github",
        "colab_type": "text"
      },
      "source": [
        "<a href=\"https://colab.research.google.com/github/SAUMYA1519/Linear-Regression/blob/master/linearRegression.ipynb\" target=\"_parent\"><img src=\"https://colab.research.google.com/assets/colab-badge.svg\" alt=\"Open In Colab\"/></a>"
      ]
    },
    {
      "cell_type": "code",
      "metadata": {
        "id": "zrotPYpFkI3z",
        "colab_type": "code",
        "colab": {}
      },
      "source": [
        "import pandas as pd\n",
        "import numpy as np\n",
        "from google.colab import files\n",
        "uploaded = files.upload()"
      ],
      "execution_count": null,
      "outputs": []
    },
    {
      "cell_type": "code",
      "metadata": {
        "id": "sHz1GtQ8kgsf",
        "colab_type": "code",
        "colab": {}
      },
      "source": [
        "df=pd.read_csv('datasets_36320_54895_headbrain.csv')\n",
        "df\n"
      ],
      "execution_count": null,
      "outputs": []
    },
    {
      "cell_type": "code",
      "metadata": {
        "id": "aSC1HbmGk6JQ",
        "colab_type": "code",
        "colab": {}
      },
      "source": [
        "from sklearn import linear_model\n",
        "reg=linear_model.LinearRegression()\n",
        "reg.fit(df[['Gender','Age Range','Head Size(cm^3)']],df[\"Brain Weight(grams)\"])"
      ],
      "execution_count": null,
      "outputs": []
    },
    {
      "cell_type": "code",
      "metadata": {
        "id": "KPn50hX5liXS",
        "colab_type": "code",
        "colab": {}
      },
      "source": [
        "print(reg.coef_)\n",
        "print(reg.intercept_)"
      ],
      "execution_count": null,
      "outputs": []
    },
    {
      "cell_type": "code",
      "metadata": {
        "id": "5O-D4oaUlrPR",
        "colab_type": "code",
        "colab": {}
      },
      "source": [
        "reg.predict([[1,1,4512]])"
      ],
      "execution_count": null,
      "outputs": []
    }
  ]
}